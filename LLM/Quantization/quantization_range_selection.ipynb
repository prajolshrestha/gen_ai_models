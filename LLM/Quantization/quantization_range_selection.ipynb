{
 "cells": [
  {
   "cell_type": "markdown",
   "metadata": {},
   "source": [
    "# Create a simple tensor with ranodm items"
   ]
  },
  {
   "cell_type": "code",
   "execution_count": 2,
   "metadata": {},
   "outputs": [
    {
     "name": "stdout",
     "output_type": "stream",
     "text": [
      "[ -15.8    63.99   57.05 ...   84.02   99.6  1000.  ]\n"
     ]
    }
   ],
   "source": [
    "import numpy as np \n",
    "\n",
    "# Supress scientific notations\n",
    "np.set_printoptions(suppress=True) \n",
    "\n",
    "# Generate randomly distributed parameters\n",
    "params = np.random.uniform(low=-50, high=150, size= 10000)\n",
    "\n",
    "# Introduce an outlier\n",
    "params[-1] = 1000\n",
    "\n",
    "# Round each number to second decimal place\n",
    "params = np.round(params, 2)\n",
    "\n",
    "print(params)"
   ]
  },
  {
   "cell_type": "markdown",
   "metadata": {},
   "source": [
    "# Define quantization method and quantize \n",
    "1. Min-max\n",
    "2. Percentile"
   ]
  },
  {
   "cell_type": "code",
   "execution_count": 3,
   "metadata": {},
   "outputs": [],
   "source": [
    "def clamp(params_q: np.array, lower_bound: int, upper_bound: int) -> np.array:\n",
    "    params_q[params_q < lower_bound] = lower_bound\n",
    "    params_q[params_q > upper_bound] = upper_bound\n",
    "    return params_q\n",
    "\n",
    "def asymmetric_quantization(params: np.array, bits: int) -> tuple[np.array, float, int]:\n",
    "    # calculate scale and zero point\n",
    "    alpha = np.max(params)\n",
    "    beta = np.min(params)\n",
    "    scale = (alpha - beta) / (2**bits - 1)\n",
    "    zero = -1*np.round(beta/scale)\n",
    "    lower_bound, upper_bound = (0, 2**bits-1)\n",
    "\n",
    "    # Quantize the parameters\n",
    "    quantized = clamp(np.round(params/scale + zero), lower_bound, upper_bound).astype(np.int32)\n",
    "    return quantized, scale, zero\n",
    "\n",
    "def asymmetric_quantization_percentile(params: np.array, bits: int, percentile: float = 99.99) -> tuple[np.array, float, int]:\n",
    "    # find the percentile value \n",
    "    alpha = np.percentile(params, percentile)\n",
    "    beta = np.percentile(params, 100-percentile)\n",
    "    scale = (alpha - beta) / (2**bits-1)\n",
    "    zero = -1 * np.round(beta/scale)\n",
    "    lower_bound, upper_bound = 0, 2**bits-1\n",
    "\n",
    "    # quantize\n",
    "    quantized = clamp(np.round(params/scale + zero), lower_bound, upper_bound).astype(np.int32)\n",
    "    return quantized, scale, zero\n",
    "\n",
    "\n",
    "def asymmetric_dequantize(params_q: np.array, scale: float, zero: int):\n",
    "    return scale*(params_q - zero)\n",
    "\n",
    "\n",
    "def quantization_error(params: np.array, params_q: np.array):\n",
    "    # Calculate the MSE\n",
    "    return np.mean((params - params_q)**2)\n"
   ]
  },
  {
   "cell_type": "markdown",
   "metadata": {},
   "source": [
    "# Quantize to 8 bits"
   ]
  },
  {
   "cell_type": "code",
   "execution_count": 4,
   "metadata": {},
   "outputs": [
    {
     "name": "stdout",
     "output_type": "stream",
     "text": [
      "Original: [ -15.8    63.99   57.05 ...   84.02   99.6  1000.  ]\n",
      "Asymmetric (min-max) scale: 4.117647058823529, zero: 12.0\n",
      "[  8  28  26 ...  32  36 255]\n",
      "Asymmetric (percentile) scale:0.7845294235270543, zero: 64.0\n",
      "[ 44 146 137 ... 171 191 255]\n"
     ]
    }
   ],
   "source": [
    "(asymmetric_q, asymmetric_scale, asymmetric_zero) = asymmetric_quantization(params, 8)\n",
    "(asymmetric_q_percentile, asymmetric_scale_percentile, asymmetric_zero_percentile) = asymmetric_quantization_percentile(params, 8)\n",
    "\n",
    "print(f\"Original: {np.round(params, 2)}\")\n",
    "print(f\"Asymmetric (min-max) scale: {asymmetric_scale}, zero: {asymmetric_zero}\")\n",
    "print(asymmetric_q)\n",
    "print(f\"Asymmetric (percentile) scale:{asymmetric_scale_percentile}, zero: {asymmetric_zero_percentile}\")\n",
    "print(asymmetric_q_percentile)"
   ]
  },
  {
   "cell_type": "markdown",
   "metadata": {},
   "source": [
    "# Dequantize back to 32 bits"
   ]
  },
  {
   "cell_type": "code",
   "execution_count": 6,
   "metadata": {},
   "outputs": [
    {
     "name": "stdout",
     "output_type": "stream",
     "text": [
      "Original: [ -15.8    63.99   57.05 ...   84.02   99.6  1000.  ]\n",
      "Dequantize Asymmetric(min-max): [ -16.47058824   65.88235294   57.64705882 ...   82.35294118   98.82352941\n",
      " 1000.58823529]\n",
      "\n",
      "Dequantize Asymmetric(percentile): [-15.69058847  64.33141273  57.27064792 ...  83.94464832  99.63523679\n",
      " 149.84511989]\n"
     ]
    }
   ],
   "source": [
    "params_deq_asymmetric = asymmetric_dequantize(asymmetric_q, asymmetric_scale, asymmetric_zero)\n",
    "params_deq_asymmetric_percentile = asymmetric_dequantize(asymmetric_q_percentile, asymmetric_scale_percentile, asymmetric_zero_percentile)\n",
    "\n",
    "\n",
    "print(f\"Original: {np.round(params, 2)}\")\n",
    "print(f\"Dequantize Asymmetric(min-max): {params_deq_asymmetric}\")\n",
    "print(\"\")\n",
    "print(f\"Dequantize Asymmetric(percentile): {params_deq_asymmetric_percentile}\")"
   ]
  },
  {
   "cell_type": "markdown",
   "metadata": {},
   "source": [
    "# Quantization error (excluding outlier)"
   ]
  },
  {
   "cell_type": "code",
   "execution_count": 9,
   "metadata": {},
   "outputs": [
    {
     "name": "stdout",
     "output_type": "stream",
     "text": [
      "Minmax-error: 1.4\n",
      "Percentile error: 0.05\n"
     ]
    }
   ],
   "source": [
    "minmax_error = quantization_error(params[:-1], params_deq_asymmetric[:-1]).round(2)\n",
    "percentile_error = quantization_error(params[:-1], params_deq_asymmetric_percentile[:-1]).round(2)\n",
    "print(f\"Minmax-error: {minmax_error}\")\n",
    "print(f\"Percentile error: {percentile_error}\")"
   ]
  }
 ],
 "metadata": {
  "kernelspec": {
   "display_name": "lora",
   "language": "python",
   "name": "python3"
  },
  "language_info": {
   "codemirror_mode": {
    "name": "ipython",
    "version": 3
   },
   "file_extension": ".py",
   "mimetype": "text/x-python",
   "name": "python",
   "nbconvert_exporter": "python",
   "pygments_lexer": "ipython3",
   "version": "3.11.5"
  }
 },
 "nbformat": 4,
 "nbformat_minor": 2
}
