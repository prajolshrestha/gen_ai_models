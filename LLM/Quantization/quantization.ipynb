{
 "cells": [
  {
   "cell_type": "markdown",
   "metadata": {},
   "source": [
    "# Create a simple tensor with random items"
   ]
  },
  {
   "cell_type": "code",
   "execution_count": 3,
   "metadata": {},
   "outputs": [
    {
     "name": "stdout",
     "output_type": "stream",
     "text": [
      "[144.85 -47.43   0.   -20.5   33.63 104.61  66.07 -42.76  78.97 130.62\n",
      " 113.44 -46.43 143.74  13.96  55.25  83.21 105.47 107.85 143.85  79.95]\n"
     ]
    }
   ],
   "source": [
    "import numpy as np \n",
    "\n",
    "# Supress scientific notation\n",
    "np.set_printoptions(suppress=True)\n",
    "\n",
    "# Generate randomly distributed parameters\n",
    "params = np.random.uniform(low=-50, high=150, size = 20)\n",
    "\n",
    "# Make sure important values are at the beginning for better debugging\n",
    "params[0] = np.max(params) + 1\n",
    "params[1] = np.min(params) - 1\n",
    "params[2] = 0\n",
    "\n",
    "# Roound each number to the second decimal place\n",
    "params = np.round(params, 2)\n",
    "\n",
    "print(params)"
   ]
  },
  {
   "cell_type": "markdown",
   "metadata": {},
   "source": [
    "# Define Quantization methods and quantize"
   ]
  },
  {
   "cell_type": "code",
   "execution_count": 4,
   "metadata": {},
   "outputs": [],
   "source": [
    "def clamp(params_q: np.array, lower_bound: int, upper_bound: int) -> np.array:\n",
    "    params_q[params_q < lower_bound] = lower_bound\n",
    "    params_q[params_q > upper_bound] = upper_bound\n",
    "    return params_q\n",
    "\n",
    "def asymmetric_quantization(params: np.array, bits: int) -> tuple[np.array, float, int]:\n",
    "    # calculate scale and zero point\n",
    "    alpha = np.max(params)\n",
    "    beta = np.min(params)\n",
    "    scale = (alpha - beta) / (2**bits - 1)\n",
    "    zero = -1*np.round(beta/scale)\n",
    "    lower_bound, upper_bound = (0, 2**bits-1)\n",
    "\n",
    "    # Quantize the parameters\n",
    "    quantized = clamp(np.round(params/scale + zero), lower_bound, upper_bound).astype(np.int32)\n",
    "    return quantized, scale, zero\n",
    "\n",
    "def asymmetric_dequantize(params_q: np.array, scale: float, zero: int):\n",
    "    return scale*(params_q - zero)\n",
    "\n",
    "def symmetric_quantization(params: np.array, bits: int) -> tuple[np.array, float]:\n",
    "    # calculate scale\n",
    "    alpha = np.max(np.abs(params))\n",
    "    scale = np.abs(alpha) / (2**(bits-1) - 1)\n",
    "    lower_bound = -2**(bits-1) -1\n",
    "    upper_bound = 2**(bits-1) -1\n",
    "\n",
    "    # Quantize the parameters\n",
    "    quantized = clamp(np.round(params/scale), lower_bound, upper_bound)\n",
    "    return quantized, scale\n",
    "\n",
    "def symmetric_dequantize(params_q: np.array, scale: float):\n",
    "    return scale * params_q\n",
    "\n",
    "def quantization_error(params: np.array, params_q: np.array):\n",
    "    # Calculate the MSE\n",
    "    return np.mean((params - params_q)**2)\n"
   ]
  },
  {
   "cell_type": "markdown",
   "metadata": {},
   "source": [
    "# Quantize to 8 bits"
   ]
  },
  {
   "cell_type": "code",
   "execution_count": 5,
   "metadata": {},
   "outputs": [
    {
     "name": "stdout",
     "output_type": "stream",
     "text": [
      "Original: [144.85 -47.43   0.   -20.5   33.63 104.61  66.07 -42.76  78.97 130.62\n",
      " 113.44 -46.43 143.74  13.96  55.25  83.21 105.47 107.85 143.85  79.95]\n",
      "Asymmetric scale: 0.7540392156862745, zero: 63.0\n",
      "[255   0  63  36 108 202 151   6 168 236 213   1 254  82 136 173 203 206\n",
      " 254 169]\n",
      "Symmetric scale: 1.140551181102362\n",
      "[127. -42.   0. -18.  29.  92.  58. -37.  69. 115.  99. -41. 126.  12.\n",
      "  48.  73.  92.  95. 126.  70.]\n"
     ]
    }
   ],
   "source": [
    "(asymmetric_q, asymmetric_scale, asymmetric_zero) = asymmetric_quantization(params, 8)\n",
    "(symmetric_q, symmetric_scale) = symmetric_quantization(params, 8)\n",
    "\n",
    "print(f\"Original: {np.round(params, 2)}\")\n",
    "print(f\"Asymmetric scale: {asymmetric_scale}, zero: {asymmetric_zero}\")\n",
    "print(asymmetric_q)\n",
    "print(f\"Symmetric scale: {symmetric_scale}\")\n",
    "print(symmetric_q)"
   ]
  },
  {
   "cell_type": "markdown",
   "metadata": {},
   "source": [
    "# Dequantize to 32 bits"
   ]
  },
  {
   "cell_type": "code",
   "execution_count": 6,
   "metadata": {},
   "outputs": [
    {
     "name": "stdout",
     "output_type": "stream",
     "text": [
      "Original: [144.85 -47.43   0.   -20.5   33.63 104.61  66.07 -42.76  78.97 130.62\n",
      " 113.44 -46.43 143.74  13.96  55.25  83.21 105.47 107.85 143.85  79.95]\n",
      "Dequantize Asymmetric: [144.77552941 -47.50447059   0.         -20.35905882  33.93176471\n",
      " 104.81145098  66.35545098 -42.98023529  79.17411765 130.44878431\n",
      " 113.10588235 -46.75043137 144.0214902   14.3267451   55.04486275\n",
      "  82.94431373 105.5654902  107.82760784 144.0214902   79.92815686]\n",
      "\n",
      "Dequantize Symmetric: [144.85       -47.90314961   0.         -20.52992126  33.07598425\n",
      " 104.93070866  66.1519685  -42.2003937   78.6980315  131.16338583\n",
      " 112.91456693 -46.76259843 143.70944882  13.68661417  54.74645669\n",
      "  83.26023622 104.93070866 108.3523622  143.70944882  79.83858268]\n"
     ]
    }
   ],
   "source": [
    "params_deq_asymmetric = asymmetric_dequantize(asymmetric_q, asymmetric_scale, asymmetric_zero)\n",
    "params_deq_symmetric = symmetric_dequantize(symmetric_q, symmetric_scale)\n",
    "\n",
    "print(f\"Original: {np.round(params, 2)}\")\n",
    "print(f\"Dequantize Asymmetric: {params_deq_asymmetric}\")\n",
    "print(\"\")\n",
    "print(f\"Dequantize Symmetric: {params_deq_symmetric}\")\n"
   ]
  },
  {
   "cell_type": "markdown",
   "metadata": {},
   "source": [
    "# Calculate quantization error"
   ]
  },
  {
   "cell_type": "code",
   "execution_count": 8,
   "metadata": {},
   "outputs": [
    {
     "name": "stdout",
     "output_type": "stream",
     "text": [
      "Asymmetric Error: 0.05\n",
      "symmetric Error: 0.13\n"
     ]
    },
    {
     "name": "stderr",
     "output_type": "stream",
     "text": [
      "Bad pipe message: %s [b'\"Not_A Brand\";v=\"8\", \"Chromium\";v=\"120\", \"Google Chrome\";']\n",
      "Bad pipe message: %s [b'\"120\"\\r\\nsec-ch-ua-mobile: ?0\\r\\nsec-ch-ua-platform: \"Windows\"\\r\\nUpgrade-Insecure-Requests: 1\\r\\nUser-Agent: Mozilla/5.0 (Wi', b'ows NT 10.0; Win64; x64) AppleWebKit/537.36 (KHTML, like Gecko) Chrome/120.0.0.0 Safari/537.36\\r\\nAccept: text/']\n",
      "Bad pipe message: %s [b'ml,application/xhtml+xml,application/xml;q=0.9,image/avif,image/webp,image/apng,*/*;q=0.8,application/s']\n",
      "Bad pipe message: %s [b'ol: max-age=0\\r\\nsec-ch-ua: \"Not_A Brand\";v=\"8\", \"Chromium\";v=\"120\", \"Google Chrome\";v=\"120\"\\r\\nsec-ch-ua-mobile: ?0\\r\\ns']\n",
      "Bad pipe message: %s [b'-ch-ua-platform: \"Windows\"\\r\\nUpgrade-Insecure-Requests: 1\\r\\nUser-Agent: Mozilla/5.0 (Windows NT 10.0; ', b'n64; x64) AppleWebKit/537.36 (KHTML, like Gecko) Chrome/120.0.0.0 Safari/537.36\\r\\nAccep', b' text/html,application/xhtml+xml,application/xml;q=0.9,image/avif,image/webp,image/apng,*/*;q=0.8,application/signe']\n"
     ]
    }
   ],
   "source": [
    "print(f\"Asymmetric Error: {np.round(quantization_error(params,params_deq_asymmetric), 2)}\")\n",
    "print(f\"symmetric Error: {np.round(quantization_error(params, params_deq_symmetric), 2)}\")\n"
   ]
  }
 ],
 "metadata": {
  "kernelspec": {
   "display_name": "lora",
   "language": "python",
   "name": "python3"
  },
  "language_info": {
   "codemirror_mode": {
    "name": "ipython",
    "version": 3
   },
   "file_extension": ".py",
   "mimetype": "text/x-python",
   "name": "python",
   "nbconvert_exporter": "python",
   "pygments_lexer": "ipython3",
   "version": "3.11.5"
  }
 },
 "nbformat": 4,
 "nbformat_minor": 2
}
